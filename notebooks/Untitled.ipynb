{
 "cells": [
  {
   "cell_type": "code",
   "execution_count": 1,
   "id": "69366c97-1815-4648-be6c-ac7059bfed66",
   "metadata": {},
   "outputs": [],
   "source": [
    "import sys"
   ]
  },
  {
   "cell_type": "markdown",
   "id": "4e46f86d-e356-413d-8f73-14da0edaf234",
   "metadata": {},
   "source": [
    "##### sys.b"
   ]
  },
  {
   "cell_type": "markdown",
   "id": "c8417e43-0296-443e-a32c-72f31c6c6bcf",
   "metadata": {
    "tags": []
   },
   "source": [
    "# Hello"
   ]
  },
  {
   "cell_type": "markdown",
   "id": "2a7ae70d-a270-47c6-8314-3e7c8c9ac355",
   "metadata": {},
   "source": [
    "## Sub\n",
    "\n",
    "Yes\n",
    "\n",
    "### AAAAA"
   ]
  },
  {
   "cell_type": "code",
   "execution_count": null,
   "id": "77d3880d-1444-4838-91eb-04e5057a05b1",
   "metadata": {},
   "outputs": [],
   "source": []
  },
  {
   "cell_type": "code",
   "execution_count": null,
   "id": "8ca962aa-6d1a-4734-8849-a39e3e899b77",
   "metadata": {},
   "outputs": [],
   "source": []
  }
 ],
 "metadata": {
  "kernelspec": {
   "display_name": "Python 3",
   "language": "python",
   "name": "python3"
  },
  "language_info": {
   "codemirror_mode": {
    "name": "ipython",
    "version": 3
   },
   "file_extension": ".py",
   "mimetype": "text/x-python",
   "name": "python",
   "nbconvert_exporter": "python",
   "pygments_lexer": "ipython3",
   "version": "3.8.5"
  },
  "toc-autonumbering": false,
  "toc-showcode": true,
  "toc-showmarkdowntxt": false,
  "toc-showtags": false
 },
 "nbformat": 4,
 "nbformat_minor": 5
}
